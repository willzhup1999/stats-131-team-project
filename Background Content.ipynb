{
 "cells": [
  {
   "cell_type": "markdown",
   "metadata": {},
   "source": [
    "# Crime in Vancouver EDA\n",
    "### By: William Zhu, Daniel Luo, Alex Trudel, Jiancong Qi\n"
   ]
  },
  {
   "cell_type": "markdown",
   "metadata": {},
   "source": [
    "#### Introduction"
   ]
  },
  {
   "attachments": {},
   "cell_type": "markdown",
   "metadata": {},
   "source": [
    "The data presented in this report details crime in the city of Vancouver. Vancouver is a city located in the province of British Columbia in Canada and became an incorporated city in 1886. In the present day, the greater metro Vancouver region hosts a population of 2.43 million people and has a wide range of demographics throughout the city’s diverse neighborhood. Through exploratory data analysis of the Crime in Vancouver dataset provided by the Vancouver Police Department from 01-01-2003 to 07-13-2017, we aim to present relevant relationships surrounding crime and neighborhoods as well as insights into Vancouver’s changing socio-economic demographics by region throughout the years. "
   ]
  },
  {
   "cell_type": "markdown",
   "metadata": {},
   "source": [
    "#### Background information on the city"
   ]
  },
  {
   "cell_type": "markdown",
   "metadata": {},
   "source": [
    "The Greater Metro Vancouver area is a regional district in the province of British Columbia and is comprised of many municipalities and communities within the Canadian Lower Mainland. The regional district’s most populous city is the city of Vancouver and is the main region of focus within the Crime in Vancouver dataset. The city of Vancouver contains 23 neighborhoods that can be observed in the map below and contain a mix of various socio-economic and ethinic backgrounds. "
   ]
  },
  {
   "cell_type": "markdown",
   "metadata": {},
   "source": [
    "<img src=\"map of vancouver .png\" alt=\"Drawing\" style=\"width: 400px;\"/>"
   ]
  },
  {
   "cell_type": "markdown",
   "metadata": {},
   "source": [
    "The general trends of socio-economic demographics see more wealth being concentrated in neighborhoods in the west of Vancouver and the central business districts of the West End and Downtown. Neighborhoods in the east and south-east of the Vancouver region generally see lower income per household and property values than those in the west side of the city. Vancouver also has several neighborhoods with distinct ethnic mixes. Those of English, Irish and Scottish origins were historically the largest ethnic group in Vancouver, and this is still visible in areas like Kerrisdale and South Granville. Germans are the second-largest European group, followed by the Chinese, who are the largest visible ethnic group."
   ]
  },
  {
   "cell_type": "markdown",
   "metadata": {},
   "source": [
    "Vancouver is not recognized as a city with frequent crime but certain notable incidents of crime include the 2011 Vancouver Stanley Cup riots which was a large public disturbance in the Downtown neighborhood following the loss of the city’s hometown hockey team, the Vancouver Canucks, in the NHL playoffs between the Boston Bruins. The incident lead to 887 charges against 301 individuals and included charges such as mischief, theft and violent assault. Incidents like these are present in the proposed dataset and provide meaningful context for potential outliers and strange relationships found during analysis. "
   ]
  },
  {
   "cell_type": "markdown",
   "metadata": {},
   "source": [
    "#### Summary of the Dataset and Variables"
   ]
  },
  {
   "cell_type": "markdown",
   "metadata": {},
   "source": [
    "The data is collected by the Vancouver Police Department and is sourced from their police databases. The dataset contains 530,652 observations of 12 variables. These variables include: "
   ]
  },
  {
   "cell_type": "markdown",
   "metadata": {},
   "source": [
    "    TYPE \n",
    "    YEAR\n",
    "    MONTH\n",
    "    DAY\n",
    "    HOUR\n",
    "    MINUTE\n",
    "    HUNDRED_BLOCK\n",
    "    NEIGHBOURHOOD\n",
    "    X\n",
    "    Y\n",
    "    Latititude\n",
    "    Longitude"
   ]
  },
  {
   "cell_type": "markdown",
   "metadata": {},
   "source": [
    "The variable \"TYPE\" is a categorical variable that contains the type of crime committed in each observation and has no missing values. The possible values of this variable or the types of crimes recorded in the dataset include: "
   ]
  },
  {
   "cell_type": "markdown",
   "metadata": {},
   "source": [
    "    Break and Enter Commercial                          \n",
    "    Break and Enter Residential/Other                     \n",
    "    Homicide                                            \n",
    "    Mischief                                              \n",
    "    Offence Against a Person                              \n",
    "    Other Theft                                           \n",
    "    Theft from Vehicle                                    \n",
    "    Theft of Bicycle                                      \n",
    "    Theft of Vehicle                                      \n",
    "    Vehicle Collision or Pedestrian Struck (with Fatality)\n",
    "    Vehicle Collision or Pedestrian Struck (with Injury)  "
   ]
  },
  {
   "cell_type": "markdown",
   "metadata": {},
   "source": [
    "The other variables in the dataset can be classified as time variables and geographic variables. \n",
    "\n",
    "The variables YEAR, MONTH, DAY, HOUR, and MINUTE describe when the crime ocurred\n",
    "\n",
    "The variables HUNDRED_BLOCK, NEIGHBOURHOOD, X, Y, Latitude, and Longitutde describe where the crime occured.  \n",
    "\n",
    "From the time variables, each variable in this group measures the unit of time from minute to year during which the reported activity was committed. In this group, the variables Hour and Minute have a total of 54,362 missing values represented by N/A for all violent crimes in the variable \"TYPE\" for Homicide and Offense Against a Person. These values were intentionally omitted by the police department in order to protect the privacy of the involved indivduals in the crime. \n",
    "\n",
    "Amongst the geographic variables, some of these variables are more specific so we will provide clarification on each variable. The variable \"HUNDRED_BLOCK\" represents a generalized location of the reported crime as a string formatted with all address numbers past the hundreth visible along with the street name included. The variable \"NEIGHBOURHOOD\" is a categorical variable with 24 possible values that include each of the 23 neighbourhoods in the city of Vancouver and details in which neighbourhood the reported crime was committed. The variables \"X\" and \"Y\" are coordinate values projected in the UTM Zone 10 of where the reported crime was comitted and the variables \"Longitude\" and \"Latitude\" are the values of variables \"X\" and \"Y\" respectively converted to longitude and latitude. For all of the geographic variables, all observations of violent crimes in the variable \"TYPE\" for Homicide and Offense Against a Person are labelled with a value that represents ommitted information. In the variable \"HUNDRED_BLOCK\", these observations contain a string \"OFFSET TO PROTECT PRIVACY\". In the variable \"NEIGHBOURHOOD\", these observations have a value of \"\", and in variables \"X\", \"Y\", \"Longitude\", \"Latitude\", these observations have values 0. Again, these values were intentionally omitted by the police department in order to protect the privacy of the involved indivduals in the crime but unlike the \"MINUTES\" and \"HOURS\" variables, these values represent no information but aren't considered missing."
   ]
  },
  {
   "cell_type": "markdown",
   "metadata": {},
   "source": []
  }
 ],
 "metadata": {
  "kernelspec": {
   "display_name": "Python 3",
   "language": "python",
   "name": "python3"
  },
  "language_info": {
   "codemirror_mode": {
    "name": "ipython",
    "version": 3
   },
   "file_extension": ".py",
   "mimetype": "text/x-python",
   "name": "python",
   "nbconvert_exporter": "python",
   "pygments_lexer": "ipython3",
   "version": "3.7.0"
  }
 },
 "nbformat": 4,
 "nbformat_minor": 2
}
